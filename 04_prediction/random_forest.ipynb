{
 "cells": [
  {
   "cell_type": "markdown",
   "metadata": {},
   "source": [
    "# Protein function prediction from embeddings"
   ]
  },
  {
   "cell_type": "markdown",
   "metadata": {},
   "source": [
    "We will start with installing all necessary dependencies from sklearn etc."
   ]
  },
  {
   "cell_type": "code",
   "execution_count": 1,
   "metadata": {
    "ExecuteTime": {
     "end_time": "2025-01-19T17:08:38.859479Z",
     "start_time": "2025-01-19T17:08:36.470261Z"
    }
   },
   "outputs": [],
   "source": [
    "import json\n",
    "import numpy as np\n",
    "from sklearn.model_selection import train_test_split\n",
    "from sklearn.preprocessing import MultiLabelBinarizer\n",
    "from sklearn.ensemble import RandomForestClassifier\n",
    "from sklearn.metrics import classification_report, hamming_loss\n",
    "from sklearn.multioutput import MultiOutputClassifier"
   ]
  },
  {
   "cell_type": "markdown",
   "metadata": {},
   "source": [
    "We want training labels that include not only the GO term itself but also its hierarchy/ parents which is why we `extract_go_parents`"
   ]
  },
  {
   "cell_type": "code",
   "execution_count": 2,
   "metadata": {
    "ExecuteTime": {
     "end_time": "2025-01-19T22:01:24.522836Z",
     "start_time": "2025-01-19T22:01:24.516046Z"
    }
   },
   "outputs": [],
   "source": [
    "def get_parents(term_id, hierarchy):\n",
    "    parents_of_term = set()\n",
    "    if hierarchy:\n",
    "        for element in hierarchy:\n",
    "            if element:\n",
    "                if element[\"id\"] == term_id:\n",
    "                    for parent in element.get(\"parents\", []):\n",
    "                        if parent:\n",
    "                            parent_id = parent.get(\"id\")\n",
    "                            parents_of_term.add(parent_id)\n",
    "                else:\n",
    "                    parent_ids = get_parents(term_id, element[\"parents\"])\n",
    "                    parents_of_term.update(parent_ids)\n",
    "    return parents_of_term\n",
    "\n",
    "def extract_go_parents_recursive(go_hierarchies, term_id, collected_parents=None):\n",
    "    if collected_parents is None:\n",
    "        collected_parents = set()\n",
    "\n",
    "        # Add the current term to the collected parents\n",
    "    collected_parents.add(term_id)\n",
    "\n",
    "    # Get parent ids of term_id\n",
    "    parent_ids = get_parents(term_id, go_hierarchies)\n",
    "    \n",
    "    for parent_id in parent_ids:\n",
    "        if parent_id and parent_id not in collected_parents:\n",
    "            extract_go_parents_recursive(go_hierarchies, parent_id, collected_parents)\n",
    "            \n",
    "    return collected_parents"
   ]
  },
  {
   "cell_type": "markdown",
   "metadata": {},
   "source": [
    "We now take the embeddings with the annotations and create an input and expected output value"
   ]
  },
  {
   "cell_type": "code",
   "execution_count": 3,
   "metadata": {
    "ExecuteTime": {
     "end_time": "2025-01-19T22:02:16.335725Z",
     "start_time": "2025-01-19T22:02:10.876385Z"
    }
   },
   "outputs": [],
   "source": [
    "with open(\"./../embeddings/protein_data_with_embeddings_and_hierarchy.json\", \"r\") as infile:\n",
    "#with open(\"./../embeddings/temp.json\", \"r\") as infile:\n",
    "\n",
    "    data = json.load(infile)\n",
    "\n",
    "\n",
    "X = np.array([entry[\"embedding\"] for entry in data])  # Embeddings\n",
    "y_raw = []  # Multi-label targets"
   ]
  },
  {
   "cell_type": "code",
   "execution_count": 4,
   "metadata": {
    "ExecuteTime": {
     "end_time": "2025-01-19T22:02:16.960924Z",
     "start_time": "2025-01-19T22:02:16.956456Z"
    }
   },
   "outputs": [
    {
     "name": "stdout",
     "output_type": "stream",
     "text": [
      "[[ 0.09006091  0.03170803 -0.00533702 ... -0.04390722 -0.02989083\n",
      "   0.0003081 ]\n",
      " [ 0.02427036  0.07759918  0.01994916 ...  0.06509287 -0.02460103\n",
      "   0.0864621 ]\n",
      " [-0.00220569  0.00289085  0.01496955 ...  0.00796726  0.01389519\n",
      "   0.01796642]\n",
      " ...\n",
      " [-0.02916173 -0.00513361 -0.05528961 ... -0.04723859 -0.00036292\n",
      "   0.00650729]\n",
      " [ 0.04925685  0.00979528  0.00251721 ... -0.04029406 -0.03207516\n",
      "   0.03731419]\n",
      " [ 0.08649088  0.02324473  0.02209109 ... -0.0716107  -0.07024817\n",
      "  -0.01152768]]\n"
     ]
    }
   ],
   "source": [
    "print(X)"
   ]
  },
  {
   "cell_type": "markdown",
   "metadata": {},
   "source": [
    "Now add all go-terms from the hierarchy to the output labels"
   ]
  },
  {
   "cell_type": "code",
   "execution_count": 5,
   "metadata": {
    "ExecuteTime": {
     "end_time": "2025-01-19T22:02:27.756491Z",
     "start_time": "2025-01-19T22:02:19.713767Z"
    }
   },
   "outputs": [],
   "source": [
    "for entry in data:\n",
    "    go_terms = set(go[\"id\"] for go in entry.get(\"go_annotations_with_ids\", []))\n",
    "\n",
    "\n",
    "    go_hierarchies = entry.get(\"go_hierarchies\", [])\n",
    "    # print(go_hierarchies)\n",
    "    all_terms = set()\n",
    "    for term_id in go_terms:\n",
    "        # print(term_id)\n",
    "        temp = extract_go_parents_recursive(go_hierarchies, term_id)\n",
    "        #print(temp)\n",
    "        all_terms.update(temp)\n",
    "        #print(all_terms)\n",
    "\n",
    "    y_raw.append(all_terms)\n",
    "    # print(y_raw)"
   ]
  },
  {
   "cell_type": "code",
   "execution_count": 6,
   "metadata": {
    "ExecuteTime": {
     "end_time": "2025-01-19T22:02:29.732764Z",
     "start_time": "2025-01-19T22:02:29.726578Z"
    }
   },
   "outputs": [
    {
     "data": {
      "text/plain": [
       "17"
      ]
     },
     "execution_count": 6,
     "metadata": {},
     "output_type": "execute_result"
    }
   ],
   "source": [
    "len(y_raw[0])"
   ]
  },
  {
   "cell_type": "code",
   "execution_count": 7,
   "metadata": {},
   "outputs": [],
   "source": [
    "mlb = MultiLabelBinarizer()\n",
    "y = mlb.fit_transform(y_raw)\n",
    "\n",
    "X_train, X_test, y_train, y_test = train_test_split(X, y, test_size=0.2, random_state=42)\n",
    "\n",
    "base_model = RandomForestClassifier(n_estimators=100, random_state=42)\n",
    "classifier = MultiOutputClassifier(base_model)"
   ]
  },
  {
   "cell_type": "code",
   "execution_count": 9,
   "metadata": {},
   "outputs": [
    {
     "name": "stdout",
     "output_type": "stream",
     "text": [
      "Number of GO terms (labels): 4975\n"
     ]
    }
   ],
   "source": [
    "print(f\"Number of GO terms (labels): {len(mlb.classes_)}\")"
   ]
  },
  {
   "cell_type": "markdown",
   "metadata": {},
   "source": [
    "The code below needs to be executed on the cluster:"
   ]
  },
  {
   "cell_type": "code",
   "execution_count": null,
   "metadata": {},
   "outputs": [],
   "source": [
    "print(\"Training the classifier...\")\n",
    "classifier.fit(X_train, y_train)\n",
    "\n",
    "print(\"Evaluating the classifier...\")\n",
    "y_pred = classifier.predict(X_test)\n",
    "\n",
    "print(\"Classification Report:\")\n",
    "print(classification_report(y_test, y_pred, target_names=mlb.classes_))\n",
    "\n",
    "print(\"Hamming Loss:\", hamming_loss(y_test, y_pred))"
   ]
  }
 ],
 "metadata": {
  "kernelspec": {
   "display_name": "protein-function-prediction-LyXtNaA0-py3.12",
   "language": "python",
   "name": "python3"
  },
  "language_info": {
   "codemirror_mode": {
    "name": "ipython",
    "version": 3
   },
   "file_extension": ".py",
   "mimetype": "text/x-python",
   "name": "python",
   "nbconvert_exporter": "python",
   "pygments_lexer": "ipython3",
   "version": "3.12.7"
  }
 },
 "nbformat": 4,
 "nbformat_minor": 2
}
