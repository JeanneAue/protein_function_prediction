{
 "cells": [
  {
   "cell_type": "markdown",
   "metadata": {},
   "source": [
    "# From Sequence to prediction"
   ]
  },
  {
   "cell_type": "code",
   "execution_count": 20,
   "metadata": {},
   "outputs": [],
   "source": [
    "from transformers import BertTokenizer, BertModel\n",
    "import torch \n",
    "import numpy as np\n",
    "import json\n",
    "import sys\n",
    "\n",
    "import joblib\n",
    "import warnings\n",
    "\n",
    "from sklearn.exceptions import InconsistentVersionWarning\n",
    "\n",
    "warnings.filterwarnings(\"ignore\", category=InconsistentVersionWarning)"
   ]
  },
  {
   "cell_type": "code",
   "execution_count": 21,
   "metadata": {},
   "outputs": [],
   "source": [
    "np.set_printoptions(threshold=sys.maxsize, suppress=True)\n",
    "tokenizer = BertTokenizer.from_pretrained(\"Rostlab/prot_bert\", do_lower_case=False)\n",
    "model = BertModel.from_pretrained(\"Rostlab/prot_bert\")"
   ]
  },
  {
   "cell_type": "code",
   "execution_count": 22,
   "metadata": {},
   "outputs": [],
   "source": [
    "#load classifier\n",
    "classifier = joblib.load(\"./../prediction/protein_function_classifier_with_hierarchy.pkl\")\n",
    "mlb = joblib.load(\"./../prediction/go_mlb_with_hierarchy.pkl\")"
   ]
  },
  {
   "cell_type": "code",
   "execution_count": 23,
   "metadata": {},
   "outputs": [],
   "source": [
    "def generate_embedding(sequence):\n",
    "    spaced_sequence = \" \".join(sequence)\n",
    "\n",
    "    inputs = tokenizer(spaced_sequence, return_tensors=\"pt\", padding=True)\n",
    "    with torch.no_grad():\n",
    "        outputs = model(**inputs)\n",
    "\n",
    "    embeddings = outputs.last_hidden_state.mean(dim=1).squeeze(0).numpy()\n",
    "    return embeddings"
   ]
  },
  {
   "cell_type": "code",
   "execution_count": 24,
   "metadata": {},
   "outputs": [],
   "source": [
    "def get_sequence_by_id(protein_id, json_file):\n",
    "    try:\n",
    "        with open(json_file, 'r') as file:\n",
    "            data = json.load(file)\n",
    "            for protein in data:\n",
    "                if protein['protein_id'] == protein_id:\n",
    "                    return protein['sequence']\n",
    "            return f\"Protein ID {protein_id} not found in the JSON file.\"\n",
    "    except FileNotFoundError:\n",
    "        return f\"The file {json_file} does not exist.\"\n",
    "    except json.JSONDecodeError:\n",
    "        return f\"The file {json_file} is not a valid JSON file.\""
   ]
  },
  {
   "cell_type": "markdown",
   "metadata": {},
   "source": [
    "Please provide your Protein ID here:"
   ]
  },
  {
   "cell_type": "code",
   "execution_count": 27,
   "metadata": {},
   "outputs": [
    {
     "name": "stdout",
     "output_type": "stream",
     "text": [
      "Generating embeddings for the example sequence...\n"
     ]
    }
   ],
   "source": [
    "protein_id = \"A0A0C5B5G6\"\n",
    "json_file = \"./../raw_data/filtered_proteins.json\"\n",
    "example_sequence = get_sequence_by_id(protein_id, json_file)\n",
    "\n",
    "print(\"Generating embeddings for the example sequence...\")\n",
    "embedding = generate_embedding(example_sequence)"
   ]
  },
  {
   "cell_type": "markdown",
   "metadata": {},
   "source": [
    "Now the embedding is created and we need to perform the inference query to get a protein function prediction:"
   ]
  },
  {
   "cell_type": "code",
   "execution_count": 28,
   "metadata": {},
   "outputs": [
    {
     "name": "stdout",
     "output_type": "stream",
     "text": [
      "Predicted GO terms: [('GO:0003674', 'GO:0005488', 'GO:0005515')]\n"
     ]
    }
   ],
   "source": [
    "new_protein_embedding = np.array(embedding).reshape(1, -1)\n",
    "\n",
    "predicted_labels = classifier.predict(new_protein_embedding)\n",
    "\n",
    "predicted_go_terms = mlb.inverse_transform(predicted_labels)\n",
    "print(f\"Predicted GO terms: {predicted_go_terms}\")\n"
   ]
  }
 ],
 "metadata": {
  "kernelspec": {
   "display_name": "protein-function-prediction-LyXtNaA0-py3.12",
   "language": "python",
   "name": "python3"
  },
  "language_info": {
   "codemirror_mode": {
    "name": "ipython",
    "version": 3
   },
   "file_extension": ".py",
   "mimetype": "text/x-python",
   "name": "python",
   "nbconvert_exporter": "python",
   "pygments_lexer": "ipython3",
   "version": "3.12.7"
  }
 },
 "nbformat": 4,
 "nbformat_minor": 2
}
