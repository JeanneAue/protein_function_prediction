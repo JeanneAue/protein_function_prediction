{
 "cells": [
  {
   "cell_type": "markdown",
   "metadata": {},
   "source": [
    "# Random forest inference"
   ]
  },
  {
   "cell_type": "code",
   "execution_count": null,
   "metadata": {},
   "outputs": [],
   "source": [
    "import joblib\n",
    "import numpy as np\n",
    "\n",
    "classifier = joblib.load(\"protein_function_classifier_with_hierarchy.pkl\")\n",
    "mlb = joblib.load(\"go_mlb_with_hierarchy.pkl\")\n",
    "\n",
    "new_protein_embedding = [0.1, 0.2, -0.3, ..., 0.05]  # Example embedding\n",
    "new_protein_embedding = np.array(new_protein_embedding).reshape(1, -1)\n",
    "\n",
    "predicted_labels = classifier.predict(new_protein_embedding)\n",
    "\n",
    "predicted_go_terms = mlb.inverse_transform(predicted_labels)\n",
    "print(f\"Predicted GO terms: {predicted_go_terms}\")\n"
   ]
  }
 ],
 "metadata": {
  "language_info": {
   "name": "python"
  }
 },
 "nbformat": 4,
 "nbformat_minor": 2
}
