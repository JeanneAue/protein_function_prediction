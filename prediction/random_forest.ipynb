{
 "cells": [
  {
   "cell_type": "markdown",
   "metadata": {},
   "source": [
    "# Protein function prediction from embeddings"
   ]
  },
  {
   "cell_type": "markdown",
   "metadata": {},
   "source": [
    "We will start with installing all necessary dependencies from sklearn etc."
   ]
  },
  {
   "cell_type": "code",
   "execution_count": 71,
   "metadata": {},
   "outputs": [],
   "source": [
    "import json\n",
    "import numpy as np\n",
    "from sklearn.model_selection import train_test_split\n",
    "from sklearn.preprocessing import MultiLabelBinarizer\n",
    "from sklearn.ensemble import RandomForestClassifier\n",
    "from sklearn.metrics import classification_report, hamming_loss\n",
    "from sklearn.multioutput import MultiOutputClassifier"
   ]
  },
  {
   "cell_type": "markdown",
   "metadata": {},
   "source": [
    "We want training labels that include not only the GO term itself but also its hierarchy/ parents which is why we `extract_go_parents`"
   ]
  },
  {
   "cell_type": "code",
   "execution_count": 72,
   "metadata": {},
   "outputs": [],
   "source": [
    "def extract_go_parents_recursive(go_hierarchies, term_id, collected_parents=None):\n",
    "    if collected_parents is None:\n",
    "        collected_parents = set()\n",
    "\n",
    "        # Add the current term to the collected parents\n",
    "    collected_parents.add(term_id)\n",
    "\n",
    "    # Find the term in the hierarchy by its ID\n",
    "    term_hierarchy = next((term for term in go_hierarchies if term[\"id\"] == term_id), None)\n",
    "    if term_hierarchy:\n",
    "        parents = term_hierarchy.get(\"parents\", [])\n",
    "\n",
    "        # Recurse into each parent\n",
    "        for parent in parents:\n",
    "            parent_id = parent.get(\"id\")\n",
    "            if parent_id and parent_id not in collected_parents:\n",
    "                extract_go_parents_recursive(go_hierarchies, parent_id, collected_parents)\n",
    "\n",
    "    #print(collected_parents)\n",
    "    return collected_parents"
   ]
  },
  {
   "cell_type": "markdown",
   "metadata": {},
   "source": [
    "We now take the embeddings with the annotations and create an input and expected output value"
   ]
  },
  {
   "cell_type": "code",
   "execution_count": 73,
   "metadata": {},
   "outputs": [],
   "source": [
    "#with open(\"./../embeddings/protein_data_with_embeddings_and_hierarchy.json\", \"r\") as infile:\n",
    "with open(\"./../embeddings/temp.json\", \"r\") as infile:\n",
    "\n",
    "    data = json.load(infile)\n",
    "\n",
    "\n",
    "X = np.array([entry[\"embedding\"] for entry in data])  # Embeddings\n",
    "y_raw = []  # Multi-label targets"
   ]
  },
  {
   "cell_type": "code",
   "execution_count": 74,
   "metadata": {},
   "outputs": [
    {
     "name": "stdout",
     "output_type": "stream",
     "text": [
      "[[ 0.09006091  0.03170803 -0.00533702 -0.07386952  0.0730283  -0.00972234\n",
      "   0.01985308  0.05804221  0.00130264 -0.04566936]]\n"
     ]
    }
   ],
   "source": [
    "print(X)"
   ]
  },
  {
   "cell_type": "markdown",
   "metadata": {},
   "source": [
    "Now add all go-terms from the hierarchy to the output labels"
   ]
  },
  {
   "cell_type": "code",
   "execution_count": 75,
   "metadata": {},
   "outputs": [
    {
     "name": "stdout",
     "output_type": "stream",
     "text": [
      "[{'id': 'GO:0070330', 'name': 'aromatase activity', 'namespace': 'molecular_function', 'parents': [{'id': 'GO:0016712', 'name': 'oxidoreductase activity, acting on paired donors, with incorporation or reduction of molecular oxygen, reduced flavin or flavoprotein as one donor, and incorporation of one atom of oxygen', 'namespace': 'molecular_function', 'parents': [{'id': 'GO:0004497', 'name': 'monooxygenase activity', 'namespace': 'molecular_function', 'parents': [{'id': 'GO:0016491', 'name': 'oxidoreductase activity', 'namespace': 'molecular_function', 'parents': [{'id': 'GO:0003824', 'name': 'catalytic activity', 'namespace': 'molecular_function', 'parents': [{'id': 'GO:0003674', 'name': 'molecular_function', 'namespace': 'molecular_function', 'parents': []}]}]}]}, {'id': 'GO:0016705', 'name': 'oxidoreductase activity, acting on paired donors, with incorporation or reduction of molecular oxygen', 'namespace': 'molecular_function', 'parents': [None]}]}]}, {'id': 'GO:0020037', 'name': 'heme binding', 'namespace': 'molecular_function', 'parents': [{'id': 'GO:0046906', 'name': 'tetrapyrrole binding', 'namespace': 'molecular_function', 'parents': [{'id': 'GO:0097159', 'name': 'organic cyclic compound binding', 'namespace': 'molecular_function', 'parents': [{'id': 'GO:0005488', 'name': 'binding', 'namespace': 'molecular_function', 'parents': [{'id': 'GO:0003674', 'name': 'molecular_function', 'namespace': 'molecular_function', 'parents': []}]}]}]}]}, {'id': 'GO:0005506', 'name': 'iron ion binding', 'namespace': 'molecular_function', 'parents': [{'id': 'GO:0046914', 'name': 'transition metal ion binding', 'namespace': 'molecular_function', 'parents': [{'id': 'GO:0046872', 'name': 'metal ion binding', 'namespace': 'molecular_function', 'parents': [{'id': 'GO:0043169', 'name': 'cation binding', 'namespace': 'molecular_function', 'parents': [{'id': 'GO:0043167', 'name': 'ion binding', 'namespace': 'molecular_function', 'parents': [{'id': 'GO:0036094', 'name': 'small molecule binding', 'namespace': 'molecular_function', 'parents': [{'id': 'GO:0005488', 'name': 'binding', 'namespace': 'molecular_function', 'parents': [{'id': 'GO:0003674', 'name': 'molecular_function', 'namespace': 'molecular_function', 'parents': []}]}]}]}]}]}]}]}, {'id': 'GO:0016712', 'name': 'oxidoreductase activity, acting on paired donors, with incorporation or reduction of molecular oxygen, reduced flavin or flavoprotein as one donor, and incorporation of one atom of oxygen', 'namespace': 'molecular_function', 'parents': [{'id': 'GO:0004497', 'name': 'monooxygenase activity', 'namespace': 'molecular_function', 'parents': [{'id': 'GO:0016491', 'name': 'oxidoreductase activity', 'namespace': 'molecular_function', 'parents': [{'id': 'GO:0003824', 'name': 'catalytic activity', 'namespace': 'molecular_function', 'parents': [{'id': 'GO:0003674', 'name': 'molecular_function', 'namespace': 'molecular_function', 'parents': []}]}]}]}, {'id': 'GO:0016705', 'name': 'oxidoreductase activity, acting on paired donors, with incorporation or reduction of molecular oxygen', 'namespace': 'molecular_function', 'parents': [None]}]}]\n",
      "GO:0020037\n",
      "GO:0005506\n",
      "GO:0016712\n",
      "GO:0070330\n",
      "[{'GO:0004497', 'GO:0046914', 'GO:0070330', 'GO:0046906', 'GO:0016712', 'GO:0016705', 'GO:0020037', 'GO:0005506'}]\n"
     ]
    }
   ],
   "source": [
    "for entry in data:\n",
    "    go_terms = set(go[\"id\"] for go in entry.get(\"go_annotations_with_ids\", []))\n",
    "\n",
    "\n",
    "    go_hierarchies = entry.get(\"go_hierarchies\", [])\n",
    "    print(go_hierarchies)\n",
    "    all_terms = set()\n",
    "    for term_id in go_terms:\n",
    "        print(term_id)\n",
    "        temp = extract_go_parents_recursive(go_hierarchies, term_id)\n",
    "        #print(temp)\n",
    "        all_terms.update(temp)\n",
    "        #print(all_terms)\n",
    "\n",
    "    y_raw.append(all_terms)\n",
    "    print(y_raw)"
   ]
  },
  {
   "cell_type": "code",
   "execution_count": 76,
   "metadata": {},
   "outputs": [
    {
     "data": {
      "text/plain": [
       "8"
      ]
     },
     "execution_count": 76,
     "metadata": {},
     "output_type": "execute_result"
    }
   ],
   "source": [
    "len(y_raw[0])"
   ]
  }
 ],
 "metadata": {
  "kernelspec": {
   "display_name": "protein-function-prediction-LyXtNaA0-py3.12",
   "language": "python",
   "name": "python3"
  },
  "language_info": {
   "codemirror_mode": {
    "name": "ipython",
    "version": 3
   },
   "file_extension": ".py",
   "mimetype": "text/x-python",
   "name": "python",
   "nbconvert_exporter": "python",
   "pygments_lexer": "ipython3",
   "version": "3.12.7"
  }
 },
 "nbformat": 4,
 "nbformat_minor": 2
}
